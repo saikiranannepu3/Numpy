{
 "cells": [
  {
   "cell_type": "markdown",
   "id": "c9d18472",
   "metadata": {},
   "source": [
    "# 1) Solve the below problem by using only numpy on tip data set\n"
   ]
  },
  {
   "cell_type": "code",
   "execution_count": 1,
   "id": "dbe3da0f",
   "metadata": {},
   "outputs": [
    {
     "data": {
      "text/plain": [
       "array([[  0.  ,  16.99,   1.01, ...,   1.  ,   0.  ,   2.  ],\n",
       "       [  1.  ,  10.34,   1.66, ...,   1.  ,   0.  ,   3.  ],\n",
       "       [  2.  ,  21.01,   3.5 , ...,   1.  ,   0.  ,   3.  ],\n",
       "       ...,\n",
       "       [241.  ,  22.67,   2.  , ...,   0.  ,   0.  ,   2.  ],\n",
       "       [242.  ,  17.82,   1.75, ...,   0.  ,   0.  ,   2.  ],\n",
       "       [243.  ,  18.78,   3.  , ...,   2.  ,   0.  ,   2.  ]])"
      ]
     },
     "execution_count": 1,
     "metadata": {},
     "output_type": "execute_result"
    }
   ],
   "source": [
    " import numpy as np\n",
    "x = np.genfromtxt(r\"C:\\Users\\user\\Downloads\\tipsf.csv\",delimiter=\",\",skip_header = 1)\n",
    "x"
   ]
  },
  {
   "cell_type": "code",
   "execution_count": 2,
   "id": "2d32822a",
   "metadata": {},
   "outputs": [
    {
     "data": {
      "text/plain": [
       "(244, 8)"
      ]
     },
     "execution_count": 2,
     "metadata": {},
     "output_type": "execute_result"
    }
   ],
   "source": [
    "x.shape"
   ]
  },
  {
   "cell_type": "markdown",
   "id": "4d3f80f7",
   "metadata": {},
   "source": [
    "### 1. What is the total bill value?"
   ]
  },
  {
   "cell_type": "code",
   "execution_count": 3,
   "id": "9c892d45",
   "metadata": {},
   "outputs": [
    {
     "data": {
      "text/plain": [
       "4827.77"
      ]
     },
     "execution_count": 3,
     "metadata": {},
     "output_type": "execute_result"
    }
   ],
   "source": [
    "a = x[:,1:2]\n",
    "a\n",
    "np.sum(a)"
   ]
  },
  {
   "cell_type": "markdown",
   "id": "1929a7c6",
   "metadata": {},
   "source": [
    "### 2. What is the tip value?"
   ]
  },
  {
   "cell_type": "code",
   "execution_count": 4,
   "id": "83ec08cc",
   "metadata": {},
   "outputs": [
    {
     "data": {
      "text/plain": [
       "731.5799999999999"
      ]
     },
     "execution_count": 4,
     "metadata": {},
     "output_type": "execute_result"
    }
   ],
   "source": [
    "b = x[:,2:3]\n",
    "b\n",
    "np.sum(b)"
   ]
  },
  {
   "cell_type": "markdown",
   "id": "3d34a1f5",
   "metadata": {},
   "source": [
    "### 3. Count how many Sun,Sat,Thu,Fri are there."
   ]
  },
  {
   "cell_type": "code",
   "execution_count": 5,
   "id": "d952a5d7",
   "metadata": {},
   "outputs": [
    {
     "data": {
      "text/plain": [
       "array([0., 1., 2., 3.])"
      ]
     },
     "execution_count": 5,
     "metadata": {},
     "output_type": "execute_result"
    }
   ],
   "source": [
    "c = x[:,5:6]\n",
    "c\n",
    "np.unique(c)"
   ]
  },
  {
   "cell_type": "code",
   "execution_count": 6,
   "id": "76217601",
   "metadata": {},
   "outputs": [
    {
     "data": {
      "text/plain": [
       "(array([0., 1., 2., 3.]), array([87, 76, 62, 19], dtype=int64))"
      ]
     },
     "execution_count": 6,
     "metadata": {},
     "output_type": "execute_result"
    }
   ],
   "source": [
    "np.unique(c,return_counts = True)"
   ]
  },
  {
   "cell_type": "markdown",
   "id": "d9b7363b",
   "metadata": {},
   "source": [
    "### 4. How many smokers are there?"
   ]
  },
  {
   "cell_type": "code",
   "execution_count": 7,
   "id": "471d6f5c",
   "metadata": {},
   "outputs": [
    {
     "data": {
      "text/plain": [
       "93.0"
      ]
     },
     "execution_count": 7,
     "metadata": {},
     "output_type": "execute_result"
    }
   ],
   "source": [
    "d = x[:,4:5]\n",
    "d\n",
    "np.sum(d)"
   ]
  },
  {
   "cell_type": "markdown",
   "id": "05b82f25",
   "metadata": {},
   "source": [
    "### 5. What is the average tip spent by male and female?"
   ]
  },
  {
   "cell_type": "code",
   "execution_count": 8,
   "id": "97e26766",
   "metadata": {},
   "outputs": [
    {
     "data": {
      "text/plain": [
       "2.99827868852459"
      ]
     },
     "execution_count": 8,
     "metadata": {},
     "output_type": "execute_result"
    }
   ],
   "source": [
    "e = x[:,2:3]\n",
    "e\n",
    "np.mean(e)"
   ]
  },
  {
   "cell_type": "markdown",
   "id": "2722a27f",
   "metadata": {},
   "source": [
    "### 6. How much amount have been spent by male and female?"
   ]
  },
  {
   "cell_type": "code",
   "execution_count": 9,
   "id": "82fe9569",
   "metadata": {},
   "outputs": [
    {
     "data": {
      "text/plain": [
       "5559.35"
      ]
     },
     "execution_count": 9,
     "metadata": {},
     "output_type": "execute_result"
    }
   ],
   "source": [
    "f = x[:,1:3]\n",
    "f\n",
    "np.sum(f)"
   ]
  },
  {
   "cell_type": "markdown",
   "id": "5cbb2e71",
   "metadata": {},
   "source": [
    "### 7. What is the min and max tip given?"
   ]
  },
  {
   "cell_type": "code",
   "execution_count": 10,
   "id": "1eae95de",
   "metadata": {},
   "outputs": [
    {
     "data": {
      "text/plain": [
       "10.0"
      ]
     },
     "execution_count": 10,
     "metadata": {},
     "output_type": "execute_result"
    }
   ],
   "source": [
    "g = x[:,2:3]\n",
    "g\n",
    "np.max(g)"
   ]
  },
  {
   "cell_type": "code",
   "execution_count": 11,
   "id": "4076a39e",
   "metadata": {},
   "outputs": [
    {
     "data": {
      "text/plain": [
       "1.0"
      ]
     },
     "execution_count": 11,
     "metadata": {},
     "output_type": "execute_result"
    }
   ],
   "source": [
    "np.min(g)"
   ]
  },
  {
   "cell_type": "markdown",
   "id": "8026506e",
   "metadata": {},
   "source": [
    "### 8. How many male and female are going for dinner and lunch?"
   ]
  },
  {
   "cell_type": "code",
   "execution_count": 12,
   "id": "11f9db39",
   "metadata": {},
   "outputs": [
    {
     "data": {
      "text/plain": [
       "157.0"
      ]
     },
     "execution_count": 12,
     "metadata": {},
     "output_type": "execute_result"
    }
   ],
   "source": [
    "h = x[:,3:4]\n",
    "h\n",
    "np.sum(h)"
   ]
  },
  {
   "cell_type": "markdown",
   "id": "44d7275c",
   "metadata": {},
   "source": [
    "### 9. Find out the average size."
   ]
  },
  {
   "cell_type": "code",
   "execution_count": 13,
   "id": "9724cc01",
   "metadata": {},
   "outputs": [
    {
     "data": {
      "text/plain": [
       "2.569672131147541"
      ]
     },
     "execution_count": 13,
     "metadata": {},
     "output_type": "execute_result"
    }
   ],
   "source": [
    "i = x[:,7:]\n",
    "i\n",
    "np.mean(i)"
   ]
  },
  {
   "cell_type": "markdown",
   "id": "f6f37d60",
   "metadata": {},
   "source": [
    "### 10. How many male smokers and female smokers are there?"
   ]
  },
  {
   "cell_type": "code",
   "execution_count": 14,
   "id": "d3500a12",
   "metadata": {},
   "outputs": [
    {
     "data": {
      "text/plain": [
       "array([0., 1.])"
      ]
     },
     "execution_count": 14,
     "metadata": {},
     "output_type": "execute_result"
    }
   ],
   "source": [
    "j = x[:,4:5]\n",
    "j\n",
    "np.unique(j)"
   ]
  },
  {
   "cell_type": "code",
   "execution_count": 15,
   "id": "b24ddb42",
   "metadata": {},
   "outputs": [
    {
     "data": {
      "text/plain": [
       "(array([0., 1.]), array([151,  93], dtype=int64))"
      ]
     },
     "execution_count": 15,
     "metadata": {},
     "output_type": "execute_result"
    }
   ],
   "source": [
    "np.unique(j,return_counts = True)"
   ]
  },
  {
   "cell_type": "markdown",
   "id": "d7195c10",
   "metadata": {},
   "source": [
    "# 2)Solve the below problem by using only numpy functions on the  below given data set\n"
   ]
  },
  {
   "cell_type": "code",
   "execution_count": 16,
   "id": "f72a578a",
   "metadata": {},
   "outputs": [],
   "source": [
    "import numpy as np"
   ]
  },
  {
   "cell_type": "code",
   "execution_count": 17,
   "id": "ecb6e914",
   "metadata": {},
   "outputs": [
    {
     "data": {
      "text/plain": [
       "array([[ 1.575     ,  1.225     ,  0.375     , ...,  6.3219385 ,\n",
       "         9.63883   , 10.        ],\n",
       "       [ 1.2375    ,  1.        ,  0.375     , ...,  3.798833  ,\n",
       "         7.654365  , 19.        ],\n",
       "       [ 1.45      ,  1.1625    ,  0.4125    , ...,  7.01650125,\n",
       "         7.257472  , 11.        ],\n",
       "       ...,\n",
       "       [ 1.125     ,  0.9125    ,  0.2875    , ...,  1.984465  ,\n",
       "         3.118445  ,  7.        ],\n",
       "       [ 1.625     ,  1.275     ,  0.4125    , ...,  7.86698625,\n",
       "        10.489315  , 11.        ],\n",
       "       [ 1.5875    ,  1.25      ,  0.3875    , ...,  7.38504475,\n",
       "         8.788345  , 11.        ]])"
      ]
     },
     "execution_count": 17,
     "metadata": {},
     "output_type": "execute_result"
    }
   ],
   "source": [
    "z = np.genfromtxt(r\"C:\\Users\\user\\Downloads\\train_extended.csv\",delimiter=\",\",skip_header = 1)\n",
    "z"
   ]
  },
  {
   "cell_type": "code",
   "execution_count": 18,
   "id": "8c8256d7",
   "metadata": {},
   "outputs": [
    {
     "data": {
      "text/plain": [
       "(200000, 8)"
      ]
     },
     "execution_count": 18,
     "metadata": {},
     "output_type": "execute_result"
    }
   ],
   "source": [
    "z.shape"
   ]
  },
  {
   "cell_type": "markdown",
   "id": "c93c956f",
   "metadata": {},
   "source": [
    "### 1. What is the max and min length?"
   ]
  },
  {
   "cell_type": "code",
   "execution_count": 19,
   "id": "9c1d15e9",
   "metadata": {},
   "outputs": [
    {
     "data": {
      "text/plain": [
       "array([[1.575 ],\n",
       "       [1.2375],\n",
       "       [1.45  ],\n",
       "       ...,\n",
       "       [1.125 ],\n",
       "       [1.625 ],\n",
       "       [1.5875]])"
      ]
     },
     "execution_count": 19,
     "metadata": {},
     "output_type": "execute_result"
    }
   ],
   "source": [
    "a = z[:, 0:1]\n",
    "a"
   ]
  },
  {
   "cell_type": "code",
   "execution_count": 20,
   "id": "4dcdae87",
   "metadata": {},
   "outputs": [
    {
     "data": {
      "text/plain": [
       "7.58349125"
      ]
     },
     "execution_count": 20,
     "metadata": {},
     "output_type": "execute_result"
    }
   ],
   "source": [
    "np.max(a)"
   ]
  },
  {
   "cell_type": "code",
   "execution_count": 21,
   "id": "69f38c20",
   "metadata": {},
   "outputs": [
    {
     "data": {
      "text/plain": [
       "0.0"
      ]
     },
     "execution_count": 21,
     "metadata": {},
     "output_type": "execute_result"
    }
   ],
   "source": [
    "np.min(a)"
   ]
  },
  {
   "cell_type": "markdown",
   "id": "199de894",
   "metadata": {},
   "source": [
    "### 2. Find out the difference between max and min length."
   ]
  },
  {
   "cell_type": "code",
   "execution_count": 22,
   "id": "bf5a83df",
   "metadata": {},
   "outputs": [
    {
     "data": {
      "text/plain": [
       "7.58349125"
      ]
     },
     "execution_count": 22,
     "metadata": {},
     "output_type": "execute_result"
    }
   ],
   "source": [
    "b = np.max(a) - np.min(a)\n",
    "b"
   ]
  },
  {
   "cell_type": "markdown",
   "id": "373a35e8",
   "metadata": {},
   "source": [
    "### 3. Find out coloumn wise average."
   ]
  },
  {
   "cell_type": "code",
   "execution_count": 23,
   "id": "be552d41",
   "metadata": {},
   "outputs": [
    {
     "data": {
      "text/plain": [
       "1.3124480799562501"
      ]
     },
     "execution_count": 23,
     "metadata": {},
     "output_type": "execute_result"
    }
   ],
   "source": [
    "c = z[:,0:1]\n",
    "c\n",
    "np.mean(c)"
   ]
  },
  {
   "cell_type": "code",
   "execution_count": 24,
   "id": "1b7f5a20",
   "metadata": {},
   "outputs": [
    {
     "data": {
      "text/plain": [
       "1.020320357165"
      ]
     },
     "execution_count": 24,
     "metadata": {},
     "output_type": "execute_result"
    }
   ],
   "source": [
    "c1 = z[:,1:2]\n",
    "c1\n",
    "np.mean(c1)"
   ]
  },
  {
   "cell_type": "code",
   "execution_count": 25,
   "id": "a84ab162",
   "metadata": {},
   "outputs": [
    {
     "data": {
      "text/plain": [
       "0.34602787104999994"
      ]
     },
     "execution_count": 25,
     "metadata": {},
     "output_type": "execute_result"
    }
   ],
   "source": [
    "c2 = z[:,2:3]\n",
    "c2\n",
    "np.mean(c2)"
   ]
  },
  {
   "cell_type": "code",
   "execution_count": 26,
   "id": "f8f61148",
   "metadata": {},
   "outputs": [
    {
     "data": {
      "text/plain": [
       "23.123436312982403"
      ]
     },
     "execution_count": 26,
     "metadata": {},
     "output_type": "execute_result"
    }
   ],
   "source": [
    "c3 = z[:,3:4]\n",
    "c3\n",
    "np.mean(c3)"
   ]
  },
  {
   "cell_type": "code",
   "execution_count": 27,
   "id": "169260f5",
   "metadata": {},
   "outputs": [
    {
     "data": {
      "text/plain": [
       "9.989370248049001"
      ]
     },
     "execution_count": 27,
     "metadata": {},
     "output_type": "execute_result"
    }
   ],
   "source": [
    "c4 = z[:,4:5]\n",
    "c4\n",
    "np.mean(c4)"
   ]
  },
  {
   "cell_type": "code",
   "execution_count": 28,
   "id": "cca68e25",
   "metadata": {},
   "outputs": [
    {
     "data": {
      "text/plain": [
       "4.993180956748749"
      ]
     },
     "execution_count": 28,
     "metadata": {},
     "output_type": "execute_result"
    }
   ],
   "source": [
    "c5 = z[:,5:6]\n",
    "c5\n",
    "np.mean(c5)"
   ]
  },
  {
   "cell_type": "code",
   "execution_count": 29,
   "id": "cfc6c9ec",
   "metadata": {},
   "outputs": [
    {
     "data": {
      "text/plain": [
       "6.634229147607001"
      ]
     },
     "execution_count": 29,
     "metadata": {},
     "output_type": "execute_result"
    }
   ],
   "source": [
    "c6 = z[:,6:7]\n",
    "c6\n",
    "np.mean(c6)"
   ]
  },
  {
   "cell_type": "code",
   "execution_count": 30,
   "id": "b12091d1",
   "metadata": {},
   "outputs": [
    {
     "data": {
      "text/plain": [
       "9.950615"
      ]
     },
     "execution_count": 30,
     "metadata": {},
     "output_type": "execute_result"
    }
   ],
   "source": [
    "c7 = z[:,7:8]\n",
    "c7\n",
    "np.mean(c7)"
   ]
  },
  {
   "cell_type": "code",
   "execution_count": 31,
   "id": "273426fc",
   "metadata": {},
   "outputs": [
    {
     "data": {
      "text/plain": [
       "array([[ 1.575     ,  1.225     ,  0.375     , ...,  6.3219385 ,\n",
       "         9.63883   , 10.        ],\n",
       "       [ 1.2375    ,  1.        ,  0.375     , ...,  3.798833  ,\n",
       "         7.654365  , 19.        ],\n",
       "       [ 1.45      ,  1.1625    ,  0.4125    , ...,  7.01650125,\n",
       "         7.257472  , 11.        ],\n",
       "       ...,\n",
       "       [ 1.125     ,  0.9125    ,  0.2875    , ...,  1.984465  ,\n",
       "         3.118445  ,  7.        ],\n",
       "       [ 1.625     ,  1.275     ,  0.4125    , ...,  7.86698625,\n",
       "        10.489315  , 11.        ],\n",
       "       [ 1.5875    ,  1.25      ,  0.3875    , ...,  7.38504475,\n",
       "         8.788345  , 11.        ]])"
      ]
     },
     "execution_count": 31,
     "metadata": {},
     "output_type": "execute_result"
    }
   ],
   "source": [
    "z"
   ]
  },
  {
   "cell_type": "markdown",
   "id": "f8ab2368",
   "metadata": {},
   "source": [
    "### 4. Find out all the age whose height is > 0.4."
   ]
  },
  {
   "cell_type": "code",
   "execution_count": 66,
   "id": "bf9e85e2",
   "metadata": {},
   "outputs": [
    {
     "data": {
      "text/plain": [
       "array([0.375 , 0.375 , 0.4125, ..., 0.2875, 0.4125, 0.3875])"
      ]
     },
     "execution_count": 66,
     "metadata": {},
     "output_type": "execute_result"
    }
   ],
   "source": [
    "d = z[:,2]  #height\n",
    "d"
   ]
  },
  {
   "cell_type": "code",
   "execution_count": 67,
   "id": "c8ac0b90",
   "metadata": {},
   "outputs": [
    {
     "data": {
      "text/plain": [
       "array([False, False,  True, ..., False,  True, False])"
      ]
     },
     "execution_count": 67,
     "metadata": {},
     "output_type": "execute_result"
    }
   ],
   "source": [
    "d > 0.4"
   ]
  },
  {
   "cell_type": "code",
   "execution_count": 68,
   "id": "58904504",
   "metadata": {},
   "outputs": [
    {
     "data": {
      "text/plain": [
       "array([10., 19., 11., ...,  7., 11., 11.])"
      ]
     },
     "execution_count": 68,
     "metadata": {},
     "output_type": "execute_result"
    }
   ],
   "source": [
    "d1 = z[:,7]   #age\n",
    "d1"
   ]
  },
  {
   "cell_type": "code",
   "execution_count": 69,
   "id": "b06501c0",
   "metadata": {},
   "outputs": [
    {
     "data": {
      "text/plain": [
       "array([11., 14., 13., ..., 11., 11., 11.])"
      ]
     },
     "execution_count": 69,
     "metadata": {},
     "output_type": "execute_result"
    }
   ],
   "source": [
    "d1[d>0.4]"
   ]
  },
  {
   "cell_type": "markdown",
   "id": "04ea2956",
   "metadata": {},
   "source": [
    "### 5. What is the average height and weight of the persons whose age is 10?"
   ]
  },
  {
   "cell_type": "code",
   "execution_count": 70,
   "id": "1e1db279",
   "metadata": {},
   "outputs": [
    {
     "data": {
      "text/plain": [
       "array([10., 19., 11., ...,  7., 11., 11.])"
      ]
     },
     "execution_count": 70,
     "metadata": {},
     "output_type": "execute_result"
    }
   ],
   "source": [
    "e = z[:,7]   #age\n",
    "e"
   ]
  },
  {
   "cell_type": "code",
   "execution_count": 71,
   "id": "dd0307f1",
   "metadata": {},
   "outputs": [
    {
     "data": {
      "text/plain": [
       "array([0.375 , 0.375 , 0.4125, ..., 0.2875, 0.4125, 0.3875])"
      ]
     },
     "execution_count": 71,
     "metadata": {},
     "output_type": "execute_result"
    }
   ],
   "source": [
    "e2 = z[:,2]   #height\n",
    "e2"
   ]
  },
  {
   "cell_type": "code",
   "execution_count": 72,
   "id": "bf73da7f",
   "metadata": {},
   "outputs": [
    {
     "data": {
      "text/plain": [
       "array([31.22697425, 21.885814  , 28.25027675, ..., 10.886208  ,\n",
       "       33.89182725, 34.37376875])"
      ]
     },
     "execution_count": 72,
     "metadata": {},
     "output_type": "execute_result"
    }
   ],
   "source": [
    "e3 = z[:,3]   #weight\n",
    "e3"
   ]
  },
  {
   "cell_type": "code",
   "execution_count": 73,
   "id": "3c773728",
   "metadata": {},
   "outputs": [
    {
     "data": {
      "text/plain": [
       "array([False, False, False, ..., False, False, False])"
      ]
     },
     "execution_count": 73,
     "metadata": {},
     "output_type": "execute_result"
    }
   ],
   "source": [
    "e2 == 10"
   ]
  },
  {
   "cell_type": "code",
   "execution_count": 74,
   "id": "09e6c646",
   "metadata": {},
   "outputs": [
    {
     "data": {
      "text/plain": [
       "array([False, False, False, ..., False, False, False])"
      ]
     },
     "execution_count": 74,
     "metadata": {},
     "output_type": "execute_result"
    }
   ],
   "source": [
    "e3 ==10"
   ]
  },
  {
   "cell_type": "code",
   "execution_count": 75,
   "id": "819c143d",
   "metadata": {},
   "outputs": [
    {
     "data": {
      "text/plain": [
       "0.34602787104999994"
      ]
     },
     "execution_count": 75,
     "metadata": {},
     "output_type": "execute_result"
    }
   ],
   "source": [
    "np.mean(e2)"
   ]
  },
  {
   "cell_type": "code",
   "execution_count": 76,
   "id": "c5a70ae9",
   "metadata": {},
   "outputs": [
    {
     "data": {
      "text/plain": [
       "23.123436312982403"
      ]
     },
     "execution_count": 76,
     "metadata": {},
     "output_type": "execute_result"
    }
   ],
   "source": [
    "np.mean(e3)"
   ]
  },
  {
   "cell_type": "markdown",
   "id": "d3c9d654",
   "metadata": {},
   "source": [
    "### 6. What is the total shell weight?"
   ]
  },
  {
   "cell_type": "code",
   "execution_count": 47,
   "id": "0b56474f",
   "metadata": {},
   "outputs": [
    {
     "data": {
      "text/plain": [
       "1326845.8295214002"
      ]
     },
     "execution_count": 47,
     "metadata": {},
     "output_type": "execute_result"
    }
   ],
   "source": [
    "f = z[:,6:7]\n",
    "f\n",
    "np.sum(f)"
   ]
  },
  {
   "cell_type": "markdown",
   "id": "a5808910",
   "metadata": {},
   "source": [
    "### 7. How many persons belongs to each and every unique age?"
   ]
  },
  {
   "cell_type": "code",
   "execution_count": 48,
   "id": "996b6913",
   "metadata": {},
   "outputs": [
    {
     "data": {
      "text/plain": [
       "array([[10.],\n",
       "       [19.],\n",
       "       [11.],\n",
       "       ...,\n",
       "       [ 7.],\n",
       "       [11.],\n",
       "       [11.]])"
      ]
     },
     "execution_count": 48,
     "metadata": {},
     "output_type": "execute_result"
    }
   ],
   "source": [
    "g = z[:,7:]\n",
    "g"
   ]
  },
  {
   "cell_type": "code",
   "execution_count": 49,
   "id": "abd54c81",
   "metadata": {},
   "outputs": [
    {
     "data": {
      "text/plain": [
       "array([ 1.,  2.,  3.,  4.,  5.,  6.,  7.,  8.,  9., 10., 11., 12., 13.,\n",
       "       14., 15., 16., 17., 18., 19., 20., 21., 22., 23., 24., 25., 26.,\n",
       "       27., 29.])"
      ]
     },
     "execution_count": 49,
     "metadata": {},
     "output_type": "execute_result"
    }
   ],
   "source": [
    "np.unique(g)"
   ]
  },
  {
   "cell_type": "code",
   "execution_count": 50,
   "id": "0c9f401c",
   "metadata": {},
   "outputs": [
    {
     "data": {
      "text/plain": [
       "(array([ 1.,  2.,  3.,  4.,  5.,  6.,  7.,  8.,  9., 10., 11., 12., 13.,\n",
       "        14., 15., 16., 17., 18., 19., 20., 21., 22., 23., 24., 25., 26.,\n",
       "        27., 29.]),\n",
       " array([   46,    42,   625,  2787,  5475, 12450, 18276, 26818, 32906,\n",
       "        30803, 23457, 12717, 10037,  6352,  4831,  3191,  2705,  1953,\n",
       "         1591,  1206,   721,   296,   352,   110,    51,    46,    99,\n",
       "           57], dtype=int64))"
      ]
     },
     "execution_count": 50,
     "metadata": {},
     "output_type": "execute_result"
    }
   ],
   "source": [
    "np.unique(g,return_counts = True)"
   ]
  },
  {
   "cell_type": "markdown",
   "id": "ea7c57ef",
   "metadata": {},
   "source": [
    "### 8. What is the difference between shucked weight and viscara weight?"
   ]
  },
  {
   "cell_type": "code",
   "execution_count": 51,
   "id": "db708234",
   "metadata": {},
   "outputs": [
    {
     "data": {
      "text/plain": [
       "array([[12.303683  ],\n",
       "       [ 7.654365  ],\n",
       "       [11.12717875],\n",
       "       ...,\n",
       "       [ 4.9044635 ],\n",
       "       [13.19669225],\n",
       "       [17.22232125]])"
      ]
     },
     "execution_count": 51,
     "metadata": {},
     "output_type": "execute_result"
    }
   ],
   "source": [
    "h = z[:,4:5]\n",
    "h"
   ]
  },
  {
   "cell_type": "code",
   "execution_count": 52,
   "id": "3731ef46",
   "metadata": {},
   "outputs": [
    {
     "data": {
      "text/plain": [
       "array([[6.3219385 ],\n",
       "       [3.798833  ],\n",
       "       [7.01650125],\n",
       "       ...,\n",
       "       [1.984465  ],\n",
       "       [7.86698625],\n",
       "       [7.38504475]])"
      ]
     },
     "execution_count": 52,
     "metadata": {},
     "output_type": "execute_result"
    }
   ],
   "source": [
    "h1 = z[:,5:6]\n",
    "h1"
   ]
  },
  {
   "cell_type": "code",
   "execution_count": 53,
   "id": "9e6a249a",
   "metadata": {},
   "outputs": [
    {
     "data": {
      "text/plain": [
       "array([[5.9817445],\n",
       "       [3.855532 ],\n",
       "       [4.1106775],\n",
       "       ...,\n",
       "       [2.9199985],\n",
       "       [5.329706 ],\n",
       "       [9.8372765]])"
      ]
     },
     "execution_count": 53,
     "metadata": {},
     "output_type": "execute_result"
    }
   ],
   "source": [
    "h2 = h - h1\n",
    "h2"
   ]
  },
  {
   "cell_type": "markdown",
   "id": "7b628274",
   "metadata": {},
   "source": [
    "### 9. What is the average height of persons whose age is between 14 and 19?"
   ]
  },
  {
   "cell_type": "code",
   "execution_count": 54,
   "id": "08322dd5",
   "metadata": {},
   "outputs": [
    {
     "data": {
      "text/plain": [
       "array([[10.],\n",
       "       [19.],\n",
       "       [11.],\n",
       "       ...,\n",
       "       [ 7.],\n",
       "       [11.],\n",
       "       [11.]])"
      ]
     },
     "execution_count": 54,
     "metadata": {},
     "output_type": "execute_result"
    }
   ],
   "source": [
    "i = z[:,7:]\n",
    "i"
   ]
  },
  {
   "cell_type": "code",
   "execution_count": 55,
   "id": "f11c04ff",
   "metadata": {},
   "outputs": [
    {
     "data": {
      "text/plain": [
       "(array([    15,     32,     38, ..., 199971, 199972, 199993], dtype=int64),\n",
       " array([0, 0, 0, ..., 0, 0, 0], dtype=int64))"
      ]
     },
     "execution_count": 55,
     "metadata": {},
     "output_type": "execute_result"
    }
   ],
   "source": [
    "i1 = np.where((i>14)&(i<19))\n",
    "i1"
   ]
  },
  {
   "cell_type": "code",
   "execution_count": 56,
   "id": "17582b2f",
   "metadata": {},
   "outputs": [
    {
     "data": {
      "text/plain": [
       "array([[0.375 ],\n",
       "       [0.375 ],\n",
       "       [0.4125],\n",
       "       ...,\n",
       "       [0.2875],\n",
       "       [0.4125],\n",
       "       [0.3875]])"
      ]
     },
     "execution_count": 56,
     "metadata": {},
     "output_type": "execute_result"
    }
   ],
   "source": [
    "i2 = z[:,2:3]\n",
    "i2"
   ]
  },
  {
   "cell_type": "code",
   "execution_count": 57,
   "id": "b63ce9df",
   "metadata": {},
   "outputs": [
    {
     "data": {
      "text/plain": [
       "array([[0.3875, 0.3625, 0.4   , ..., 0.35  , 0.4375, 0.375 ],\n",
       "       [0.375 , 0.375 , 0.375 , ..., 0.375 , 0.375 , 0.375 ]])"
      ]
     },
     "execution_count": 57,
     "metadata": {},
     "output_type": "execute_result"
    }
   ],
   "source": [
    "i3 = i2.take(i1)\n",
    "i3"
   ]
  },
  {
   "cell_type": "code",
   "execution_count": 58,
   "id": "60f56946",
   "metadata": {},
   "outputs": [
    {
     "data": {
      "text/plain": [
       "0.397035094637224"
      ]
     },
     "execution_count": 58,
     "metadata": {},
     "output_type": "execute_result"
    }
   ],
   "source": [
    "np.mean(i3)"
   ]
  },
  {
   "cell_type": "markdown",
   "id": "9ab2b46c",
   "metadata": {},
   "source": [
    "### 10. What is the average weight if we include shucked weight, viscera weight, shell weight?"
   ]
  },
  {
   "cell_type": "code",
   "execution_count": 59,
   "id": "28ae2f3a",
   "metadata": {},
   "outputs": [
    {
     "data": {
      "text/plain": [
       "array([[12.303683  ],\n",
       "       [ 7.654365  ],\n",
       "       [11.12717875],\n",
       "       ...,\n",
       "       [ 4.9044635 ],\n",
       "       [13.19669225],\n",
       "       [17.22232125]])"
      ]
     },
     "execution_count": 59,
     "metadata": {},
     "output_type": "execute_result"
    }
   ],
   "source": [
    "j = z[:,4:5]\n",
    "j"
   ]
  },
  {
   "cell_type": "code",
   "execution_count": 60,
   "id": "dea11383",
   "metadata": {},
   "outputs": [
    {
     "data": {
      "text/plain": [
       "array([[6.3219385 ],\n",
       "       [3.798833  ],\n",
       "       [7.01650125],\n",
       "       ...,\n",
       "       [1.984465  ],\n",
       "       [7.86698625],\n",
       "       [7.38504475]])"
      ]
     },
     "execution_count": 60,
     "metadata": {},
     "output_type": "execute_result"
    }
   ],
   "source": [
    "j1 = z[:,5:6]\n",
    "j1"
   ]
  },
  {
   "cell_type": "code",
   "execution_count": 61,
   "id": "33bb4870",
   "metadata": {},
   "outputs": [
    {
     "data": {
      "text/plain": [
       "array([[ 9.63883 ],\n",
       "       [ 7.654365],\n",
       "       [ 7.257472],\n",
       "       ...,\n",
       "       [ 3.118445],\n",
       "       [10.489315],\n",
       "       [ 8.788345]])"
      ]
     },
     "execution_count": 61,
     "metadata": {},
     "output_type": "execute_result"
    }
   ],
   "source": [
    "j2 = z[:,6:7]\n",
    "j2"
   ]
  },
  {
   "cell_type": "code",
   "execution_count": 62,
   "id": "258c1100",
   "metadata": {},
   "outputs": [
    {
     "data": {
      "text/plain": [
       "array([[28.2644515],\n",
       "       [19.107563 ],\n",
       "       [25.401152 ],\n",
       "       ...,\n",
       "       [10.0073735],\n",
       "       [31.5529935],\n",
       "       [33.395711 ]])"
      ]
     },
     "execution_count": 62,
     "metadata": {},
     "output_type": "execute_result"
    }
   ],
   "source": [
    "j3= j+j1+j2\n",
    "j3"
   ]
  },
  {
   "cell_type": "code",
   "execution_count": 63,
   "id": "f52f2b12",
   "metadata": {},
   "outputs": [
    {
     "data": {
      "text/plain": [
       "21.616780352404746"
      ]
     },
     "execution_count": 63,
     "metadata": {},
     "output_type": "execute_result"
    }
   ],
   "source": [
    "np.mean(j3)"
   ]
  },
  {
   "cell_type": "code",
   "execution_count": null,
   "id": "259d23cb",
   "metadata": {},
   "outputs": [],
   "source": []
  }
 ],
 "metadata": {
  "kernelspec": {
   "display_name": "Python 3 (ipykernel)",
   "language": "python",
   "name": "python3"
  },
  "language_info": {
   "codemirror_mode": {
    "name": "ipython",
    "version": 3
   },
   "file_extension": ".py",
   "mimetype": "text/x-python",
   "name": "python",
   "nbconvert_exporter": "python",
   "pygments_lexer": "ipython3",
   "version": "3.11.4"
  }
 },
 "nbformat": 4,
 "nbformat_minor": 5
}
